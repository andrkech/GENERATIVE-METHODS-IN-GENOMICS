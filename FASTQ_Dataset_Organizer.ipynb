{
  "nbformat": 4,
  "nbformat_minor": 0,
  "metadata": {
    "colab": {
      "provenance": [],
      "mount_file_id": "1OI6jSo-3v7y64IhycxfoN9LSK3XQI0gY",
      "authorship_tag": "ABX9TyPxqH+4KYTDZIkqIx905aAD",
      "include_colab_link": true
    },
    "kernelspec": {
      "name": "python3",
      "display_name": "Python 3"
    },
    "language_info": {
      "name": "python"
    }
  },
  "cells": [
    {
      "cell_type": "markdown",
      "metadata": {
        "id": "view-in-github",
        "colab_type": "text"
      },
      "source": [
        "<a href=\"https://colab.research.google.com/github/andrkech/GENERATIVE-METHODS-IN-GENOMICS/blob/main/FASTQ_Dataset_Organizer.ipynb\" target=\"_parent\"><img src=\"https://colab.research.google.com/assets/colab-badge.svg\" alt=\"Open In Colab\"/></a>"
      ]
    },
    {
      "cell_type": "markdown",
      "source": [
        "### Connect with Google Drive."
      ],
      "metadata": {
        "id": "I0yGyfaTt6n3"
      }
    },
    {
      "cell_type": "code",
      "source": [
        "from google.colab import drive\n",
        "drive.mount('/content/drive')"
      ],
      "metadata": {
        "colab": {
          "base_uri": "https://localhost:8080/"
        },
        "id": "PSDgVlCuuDbP",
        "outputId": "0caf58ac-21c3-4cc5-ea6e-984b0471d084"
      },
      "execution_count": 1,
      "outputs": [
        {
          "output_type": "stream",
          "name": "stdout",
          "text": [
            "Drive already mounted at /content/drive; to attempt to forcibly remount, call drive.mount(\"/content/drive\", force_remount=True).\n"
          ]
        }
      ]
    },
    {
      "cell_type": "markdown",
      "source": [
        "### Import Libraries"
      ],
      "metadata": {
        "id": "DKE1gaFlycvW"
      }
    },
    {
      "cell_type": "code",
      "source": [
        "import os\n",
        "import shutil\n",
        "import zipfile\n",
        "import tarfile\n",
        "import numpy as np\n",
        "import matplotlib.pyplot as plt\n",
        "from sklearn.cluster import KMeans\n",
        "!pip install Bio\n",
        "from Bio import SeqIO"
      ],
      "metadata": {
        "id": "O1oBS28VyDg5"
      },
      "execution_count": 2,
      "outputs": []
    },
    {
      "cell_type": "markdown",
      "source": [
        "### Unzip the dataset folder and import it into the Colab notebook."
      ],
      "metadata": {
        "id": "MLiiBeYtyj73"
      }
    },
    {
      "cell_type": "code",
      "source": [
        "def extract_or_create_zip(source_path, extract_path):\n",
        "    # Check if the source path is a directory\n",
        "    if os.path.isdir(source_path):\n",
        "        # Create a ZIP file from the directory contents\n",
        "        shutil.make_archive(extract_path, \"zip\", source_path)\n",
        "        print(f\"Created ZIP file from directory: {source_path}\")\n",
        "\n",
        "    elif os.path.isfile(source_path) and source_path.lower().endswith('.zip'):\n",
        "        # Extract the existing ZIP file\n",
        "        with zipfile.ZipFile(source_path, 'r') as zip_ref:\n",
        "            zip_ref.extractall(extract_path)\n",
        "            print(f\"Extraction completed successfully: {source_path}\")\n",
        "\n",
        "    else:\n",
        "        print(f\"Error: Invalid source path '{source_path}'. Must be a directory or a ZIP file.\")"
      ],
      "metadata": {
        "id": "S-YAikuwAxr0"
      },
      "execution_count": 3,
      "outputs": []
    },
    {
      "cell_type": "code",
      "source": [
        "# Define source and extraction paths\n",
        "source_path = \"/content/drive/MyDrive/BIOINFORMATICS/THESIS_KECHAGIAS/DATA/DATASET/FASTQ_FILES.zip\"\n",
        "extract_path = \"/content/fastq_dataset\"\n",
        "\n",
        "# Extract or create ZIP file based on source path\n",
        "extract_or_create_zip(source_path, extract_path)"
      ],
      "metadata": {
        "colab": {
          "base_uri": "https://localhost:8080/"
        },
        "id": "WKr3_jFd6p_Z",
        "outputId": "2072b721-4b99-434f-b9b1-bc38c6071e69"
      },
      "execution_count": 4,
      "outputs": [
        {
          "output_type": "stream",
          "name": "stdout",
          "text": [
            "Extraction completed successfully: /content/drive/MyDrive/BIOINFORMATICS/THESIS_KECHAGIAS/DATA/DATASET/FASTQ_FILES.zip\n"
          ]
        }
      ]
    },
    {
      "cell_type": "markdown",
      "source": [
        "### Extract the inner compressed folders."
      ],
      "metadata": {
        "id": "td6Tq9M3y6xw"
      }
    },
    {
      "cell_type": "code",
      "source": [
        "def extract_compressed_files(source_path, extract_path):\n",
        "    # Create the extraction directory if it doesn't exist\n",
        "    os.makedirs(extract_path, exist_ok=True)\n",
        "\n",
        "    # Check if the source path exists\n",
        "    if not os.path.exists(source_path):\n",
        "        print(f\"Error: Source path '{source_path}' not found.\")\n",
        "        return\n",
        "\n",
        "    # Get the file extension\n",
        "    file_extension = os.path.splitext(source_path)[1].lower()\n",
        "\n",
        "    try:\n",
        "        # Extract based on file type\n",
        "        if file_extension == '.zip':\n",
        "            with zipfile.ZipFile(source_path, 'r') as zip_ref:\n",
        "                zip_ref.extractall(extract_path)\n",
        "\n",
        "        elif file_extension == '.tar.gz' or file_extension == '.tgz':\n",
        "            with tarfile.open(source_path, 'r:gz') as tar_ref:\n",
        "                tar_ref.extractall(extract_path)\n",
        "\n",
        "        elif file_extension == '.tar':\n",
        "            with tarfile.open(source_path, 'r') as tar_ref:\n",
        "                tar_ref.extractall(extract_path)\n",
        "\n",
        "        else:\n",
        "            print(f\"Error: Unsupported file type '{file_extension}'\")\n",
        "            return\n",
        "\n",
        "        print(f\"Extraction completed successfully: {source_path}\")\n",
        "\n",
        "    except Exception as e:\n",
        "        print(f\"Error extracting {source_path}: {e}\")"
      ],
      "metadata": {
        "id": "g_4SsVflK7ZA"
      },
      "execution_count": 5,
      "outputs": []
    },
    {
      "cell_type": "code",
      "source": [
        "# Define source and extraction paths\n",
        "source_path = \"/content/drive/MyDrive/BIOINFORMATICS/THESIS_KECHAGIAS/DATA/DATASET.zip\"\n",
        "extract_path = \"/content/FASTQ_DATASET\"\n",
        "\n",
        "# Extract the compressed file\n",
        "extract_compressed_files(source_path, extract_path)"
      ],
      "metadata": {
        "colab": {
          "base_uri": "https://localhost:8080/"
        },
        "id": "X-NAniYe11Ex",
        "outputId": "f0683300-8a5e-4a72-94b8-eb45e0cfba5e"
      },
      "execution_count": 6,
      "outputs": [
        {
          "output_type": "stream",
          "name": "stdout",
          "text": [
            "Extraction completed successfully: /content/drive/MyDrive/BIOINFORMATICS/THESIS_KECHAGIAS/DATA/DATASET.zip\n"
          ]
        }
      ]
    },
    {
      "cell_type": "markdown",
      "source": [
        "# Make clusters"
      ],
      "metadata": {
        "id": "vF__TO8j8oYb"
      }
    },
    {
      "cell_type": "markdown",
      "source": [
        "This part of the code applies a Kmeans to create clusters based on the sequence lengths."
      ],
      "metadata": {
        "id": "FcTMWfHRou3L"
      }
    },
    {
      "cell_type": "code",
      "source": [
        "def read_seq_lengths(directory_path):\n",
        "    seq_lengths = []\n",
        "    file_names = []\n",
        "\n",
        "    for file_name in os.listdir(directory_path):\n",
        "        file_path = os.path.join(directory_path, file_name)\n",
        "\n",
        "        # Read the sequence length from the FASTQ file\n",
        "        with open(file_path) as f:\n",
        "            lines = f.readlines()\n",
        "            seq_length = len(lines[1].strip())  # Assuming the sequence is on the second line\n",
        "            seq_lengths.append(seq_length)\n",
        "            file_names.append(file_name)\n",
        "\n",
        "    return np.array(seq_lengths), file_names\n",
        "\n",
        "def remove_outliers(seq_lengths, threshold=3):\n",
        "    z_scores = (seq_lengths - np.mean(seq_lengths)) / np.std(seq_lengths)\n",
        "    valid_indices = np.abs(z_scores) <= threshold\n",
        "    return seq_lengths[valid_indices]\n",
        "\n",
        "def perform_clustering(seq_lengths, num_clusters):\n",
        "    kmeans = KMeans(n_clusters=num_clusters, random_state=42)\n",
        "    kmeans.fit(seq_lengths.reshape(-1, 1))\n",
        "    return kmeans.labels_\n",
        "\n",
        "def create_cluster_subfolders(destination_path, num_clusters):\n",
        "    for i in range(num_clusters):\n",
        "        cluster_name = f\"cluster_{i + 1}\"\n",
        "        cluster_path = os.path.join(destination_path, cluster_name)\n",
        "        os.makedirs(cluster_path, exist_ok=True)\n",
        "\n",
        "def move_files_to_clusters(source_path, destination_path, file_names, labels):\n",
        "    for file_name, label in zip(file_names, labels):\n",
        "        source_file_path = os.path.join(source_path, file_name)\n",
        "        cluster_name = f\"cluster_{label + 1}\"\n",
        "        cluster_path = os.path.join(destination_path, cluster_name)\n",
        "        shutil.copy(source_file_path, os.path.join(cluster_path, file_name))\n",
        "\n",
        "def calculate_statistics(seq_lengths, labels, num_clusters):\n",
        "    statistics = []\n",
        "\n",
        "    for i in range(num_clusters):\n",
        "        cluster_indices = np.where(labels == i)[0]\n",
        "        cluster_lengths = seq_lengths[cluster_indices]\n",
        "        stats = {\n",
        "            \"Cluster\": f\"cluster_{i + 1}\",\n",
        "            \"Average\": np.mean(cluster_lengths),\n",
        "            \"Std Deviation\": np.std(cluster_lengths),\n",
        "            \"Minimum\": np.min(cluster_lengths),\n",
        "            \"Maximum\": np.max(cluster_lengths)\n",
        "        }\n",
        "        statistics.append(stats)\n",
        "\n",
        "    return statistics"
      ],
      "metadata": {
        "id": "qoaPcxBEoZuv"
      },
      "execution_count": null,
      "outputs": []
    },
    {
      "cell_type": "code",
      "source": [
        "# Define paths\n",
        "source_path = \"/content/fastq_dataset\"\n",
        "destination_path = \"/content/clustered_fastq\"\n",
        "num_clusters = 5  # Number of clusters\n",
        "\n",
        "# Step 1: Read sequence lengths and file names\n",
        "seq_lengths, file_names = read_seq_lengths(source_path)\n",
        "\n",
        "# Step 2: Remove outliers\n",
        "seq_lengths = remove_outliers(seq_lengths)\n",
        "\n",
        "# Step 3: Perform clustering\n",
        "labels = perform_clustering(seq_lengths, num_clusters)\n",
        "\n",
        "# Step 4: Create cluster subfolders\n",
        "create_cluster_subfolders(destination_path, num_clusters)\n",
        "\n",
        "# Step 5: Move FASTQ files to cluster subfolders\n",
        "move_files_to_clusters(source_path, destination_path, file_names, labels)\n",
        "\n",
        "# Step 6: Calculate statistics for each cluster\n",
        "statistics = calculate_statistics(seq_lengths, labels, num_clusters)\n",
        "\n",
        "# Print statistics\n",
        "for stats in statistics:\n",
        "    print(stats)"
      ],
      "metadata": {
        "id": "gCR1vXIj3aop"
      },
      "execution_count": null,
      "outputs": []
    },
    {
      "cell_type": "code",
      "source": [
        "def visualize_statistics(statistics):\n",
        "    clusters = [stats[\"Cluster\"] for stats in statistics]\n",
        "    averages = [stats[\"Average\"] for stats in statistics]\n",
        "    std_deviations = [stats[\"Std Deviation\"] for stats in statistics]\n",
        "    minimums = [stats[\"Minimum\"] for stats in statistics]\n",
        "    maximums = [stats[\"Maximum\"] for stats in statistics]\n",
        "\n",
        "    x = np.arange(len(clusters))\n",
        "    width = 0.2\n",
        "\n",
        "    fig, ax = plt.subplots(figsize=(10, 6))\n",
        "    rects1 = ax.bar(x - width, averages, width, label='Average')\n",
        "    rects2 = ax.bar(x, std_deviations, width, label='Std Deviation')\n",
        "    rects3 = ax.bar(x + width, maximums, width, label='Maximum')\n",
        "    rects4 = ax.bar(x + 2 * width, minimums, width, label='Minimum')\n",
        "\n",
        "    ax.set_ylabel('Values')\n",
        "    ax.set_title('Cluster Statistics')\n",
        "    ax.set_xticks(x)\n",
        "    ax.set_xticklabels(clusters)\n",
        "    ax.legend()\n",
        "\n",
        "    plt.xticks(rotation=45)\n",
        "    plt.tight_layout()\n",
        "    plt.show()"
      ],
      "metadata": {
        "id": "V382lUIO0Z3d"
      },
      "execution_count": null,
      "outputs": []
    },
    {
      "cell_type": "code",
      "source": [
        "# Visualize statistics\n",
        "visualize_statistics(statistics)"
      ],
      "metadata": {
        "id": "eLbCSSfI3iQD"
      },
      "execution_count": null,
      "outputs": []
    },
    {
      "cell_type": "code",
      "source": [
        "# Define the path to the directory containing the clusters\n",
        "clusters_dir = \"/content/clustered_fastq\"\n",
        "\n",
        "# Initialize a dictionary to store sequence lengths for each cluster\n",
        "cluster_lengths = {}\n",
        "\n",
        "# Iterate through the subdirectories (clusters)\n",
        "for cluster_name in os.listdir(clusters_dir):\n",
        "    cluster_path = os.path.join(clusters_dir, cluster_name)\n",
        "    if os.path.isdir(cluster_path):\n",
        "        # Initialize a list to store sequence lengths for the current cluster\n",
        "        lengths = []\n",
        "\n",
        "        # Iterate through the files in the cluster\n",
        "        for file_name in os.listdir(cluster_path):\n",
        "            file_path = os.path.join(cluster_path, file_name)\n",
        "            if os.path.isfile(file_path) and file_name.endswith(\".fastq\"):\n",
        "                # Read the sequence length from the file and add it to the list\n",
        "                with open(file_path, \"r\") as file:\n",
        "                    lines = file.readlines()\n",
        "                    seq_length = len(lines[1].strip())  # Assuming the sequence is on the second line\n",
        "                    lengths.append(seq_length)\n",
        "\n",
        "        # Store the sequence lengths for the current cluster\n",
        "        cluster_lengths[cluster_name] = lengths\n",
        "\n",
        "# Plot histograms for sequence lengths in each cluster\n",
        "plt.figure(figsize=(12, 8))\n",
        "for cluster_name, lengths in cluster_lengths.items():\n",
        "    plt.hist(lengths, bins=30, alpha=0.5, label=cluster_name)\n",
        "\n",
        "plt.xlabel('Sequence Length')\n",
        "plt.ylabel('Frequency')\n",
        "plt.title('Sequence Length Distribution in Clusters')\n",
        "plt.legend()\n",
        "plt.show()"
      ],
      "metadata": {
        "id": "B0Ue3t5f0_QW",
        "colab": {
          "base_uri": "https://localhost:8080/",
          "height": 611
        },
        "outputId": "bb7543e7-e0a4-4286-d0b6-152dacf6ff8c"
      },
      "execution_count": null,
      "outputs": [
        {
          "output_type": "display_data",
          "data": {
            "text/plain": [
              "<Figure size 1200x800 with 1 Axes>"
            ],
            "image/png": "[encoded data removed]"
          },
          "metadata": {}
        }
      ]
    },
    {
      "cell_type": "markdown",
      "source": [
        "Cluster Padding"
      ],
      "metadata": {
        "id": "AjfscCpHG7pd"
      }
    },
    {
      "cell_type": "code",
      "source": [
        "def pad_sequences(input_file, output_file, target_length):\n",
        "    with open(input_file, 'r') as f_in, open(output_file, 'w') as f_out:\n",
        "        lines = f_in.readlines()\n",
        "        seq_id = None\n",
        "        sequence = ''\n",
        "        quality_scores = ''\n",
        "\n",
        "        for line in lines:\n",
        "            if line.startswith('@'):  # Sequence identifier line\n",
        "                if seq_id is not None:\n",
        "                    pad_length = target_length - len(sequence)\n",
        "                    if pad_length > 0:\n",
        "                        sequence = sequence.ljust(target_length, 'N')  # Pad with 'N'\n",
        "                    f_out.write(f'{seq_id}\\n{sequence}\\n+\\n{quality_scores}\\n')\n",
        "\n",
        "                seq_id = line.strip()\n",
        "                sequence = ''\n",
        "                quality_scores = ''\n",
        "            elif seq_id is not None:\n",
        "                if line.startswith('+'):  # Quality identifier line\n",
        "                    continue\n",
        "                elif line.strip():  # Sequence or quality scores line\n",
        "                    sequence += line.strip()\n",
        "\n",
        "        # Write the last entry\n",
        "        if seq_id is not None:\n",
        "            pad_length = target_length - len(sequence)\n",
        "            if pad_length > 0:\n",
        "                sequence = sequence.ljust(target_length, 'N')  # Pad with 'N'\n",
        "            f_out.write(f'{seq_id}\\n{sequence}\\n+\\n{quality_scores}\\n')\n",
        "\n",
        "# Example usage\n",
        "input_file = 'input.fastq'\n",
        "output_file = 'padded_output.fastq'\n",
        "target_length = 150  # Target length for padding\n",
        "pad_sequences(input_file, output_file, target_length)\n"
      ],
      "metadata": {
        "id": "5iZkJ_RTHB1Y"
      },
      "execution_count": null,
      "outputs": []
    },
    {
      "cell_type": "markdown",
      "source": [
        "Cluster Cutting"
      ],
      "metadata": {
        "id": "D-kQ9fv3Lst2"
      }
    },
    {
      "cell_type": "code",
      "source": [
        "def cut_to_min_length(input_file, output_file, min_length):\n",
        "    ''' na krataw ta xarakthristika megethi twn clusters'''\n",
        "    with open(input_file, 'r') as f_in, open(output_file, 'w') as f_out:\n",
        "        lines = f_in.readlines()\n",
        "        seq_id = None\n",
        "        sequence = ''\n",
        "        quality_scores = ''\n",
        "\n",
        "        for line in lines:\n",
        "            if line.startswith('@'):  # Sequence identifier line\n",
        "                if seq_id is not None:  # Write processed sequence and quality scores\n",
        "                    f_out.write(f'{seq_id}\\n{sequence}\\n+\\n{quality_scores}\\n')\n",
        "\n",
        "                seq_id = line.strip()\n",
        "                sequence = ''\n",
        "                quality_scores = ''\n",
        "            elif seq_id is not None:\n",
        "                if line.startswith('+'):  # Quality identifier line\n",
        "                    continue\n",
        "                elif line.strip():  # Sequence or quality scores line\n",
        "                    sequence += line.strip()\n",
        "\n",
        "        # Write the last entry\n",
        "        if seq_id is not None:\n",
        "            if len(sequence) < min_length:\n",
        "                sequence = sequence.ljust(min_length, 'N')  # Pad with 'N' below min length\n",
        "            f_out.write(f'{seq_id}\\n{sequence}\\n+\\n{quality_scores}\\n')\n"
      ],
      "metadata": {
        "id": "ApBAXzr8Lw8c"
      },
      "execution_count": null,
      "outputs": []
    },
    {
      "cell_type": "markdown",
      "source": [
        "Meeting in the middle"
      ],
      "metadata": {
        "id": "n5ec_SRkMran"
      }
    },
    {
      "cell_type": "code",
      "source": [
        "def cut_above_mean_pad_below(input_file, output_file, mean_length):\n",
        "    with open(input_file, 'r') as f_in, open(output_file, 'w') as f_out:\n",
        "        lines = f_in.readlines()\n",
        "        seq_id = None\n",
        "        sequence = ''\n",
        "        quality_scores = ''\n",
        "        lengths = []\n",
        "\n",
        "        for line in lines:\n",
        "            if line.startswith('@'):  # Sequence identifier line\n",
        "                if seq_id is not None:  # Process sequence length\n",
        "                    lengths.append(len(sequence))\n",
        "\n",
        "                seq_id = line.strip()\n",
        "                sequence = ''\n",
        "                quality_scores = ''\n",
        "            elif seq_id is not None:\n",
        "                if line.startswith('+'):  # Quality identifier line\n",
        "                    continue\n",
        "                elif line.strip():  # Sequence or quality scores line\n",
        "                    sequence += line.strip()\n",
        "\n",
        "        mean_length = sum(lengths) / len(lengths) if lengths else 0\n",
        "\n",
        "        for line in lines:\n",
        "            if line.startswith('@'):  # Sequence identifier line\n",
        "                if seq_id is not None:\n",
        "                    if len(sequence) > mean_length:\n",
        "                        sequence = sequence[:mean_length]\n",
        "                    else:\n",
        "                        sequence = sequence.ljust(mean_length, 'N')  # Pad with 'N' below mean length\n",
        "                    f_out.write(f'{seq_id}\\n{sequence}\\n+\\n{quality_scores}\\n')\n",
        "\n",
        "                seq_id = line.strip()\n",
        "                sequence = ''\n",
        "                quality_scores = ''\n",
        "            elif seq_id is not None:\n",
        "                if line.startswith('+'):  # Quality identifier line\n",
        "                    continue\n",
        "                elif line.strip():  # Sequence or quality scores line\n",
        "                    quality_scores += line.strip()\n",
        "\n",
        "        # Write the last entry\n",
        "        if seq_id is not None:\n",
        "            if len(sequence) > mean_length:\n",
        "                sequence = sequence[:mean_length]\n",
        "            else:\n",
        "                sequence = sequence.ljust(mean_length, 'N')\n",
        "            f_out.write(f'{seq_id}\\n{sequence}\\n+\\n{quality_scores}\\n')\n"
      ],
      "metadata": {
        "id": "FRzTl8SEMwHu"
      },
      "execution_count": null,
      "outputs": []
    },
    {
      "cell_type": "markdown",
      "source": [
        "## Make groups."
      ],
      "metadata": {
        "id": "reFdRWO1ptNv"
      }
    },
    {
      "cell_type": "markdown",
      "source": [
        "This part of the script creates a single cluster with sequences of exactly the same length."
      ],
      "metadata": {
        "id": "X8IO5dRSpx8o"
      }
    },
    {
      "cell_type": "code",
      "source": [
        "def process_fastq_files(dataset_folder, target_length=300, output_folder=\"filtered_reads\"):\n",
        "    # Create output folder if it doesn't exist\n",
        "    os.makedirs(output_folder, exist_ok=True)\n",
        "\n",
        "    # Iterate through files and subfolders in dataset folder\n",
        "    for root, dirs, files in os.walk(dataset_folder):\n",
        "        for file in files:\n",
        "            if file.endswith(\".fastq\") or file.endswith(\".fq\"):\n",
        "                file_path = os.path.join(root, file)\n",
        "                process_fastq_file(file_path, target_length, output_folder)\n",
        "\n",
        "def process_fastq_file(file_path, target_length, output_folder):\n",
        "    output_file = os.path.join(output_folder, os.path.basename(file_path).replace(\".fastq\", \"_filtered.fastq\"))\n",
        "\n",
        "    with open(output_file, \"w\") as out_handle:\n",
        "        for record in SeqIO.parse(file_path, \"fastq\"):\n",
        "            if len(record.seq) == target_length:\n",
        "                SeqIO.write(record, out_handle, \"fastq\")"
      ],
      "metadata": {
        "colab": {
          "base_uri": "https://localhost:8080/"
        },
        "id": "4avA7nA6psqW",
        "outputId": "e4f7899f-3bcc-4c23-ba1f-1b7e7de6ee61"
      },
      "execution_count": 8,
      "outputs": [
        {
          "output_type": "stream",
          "name": "stdout",
          "text": [
            "Collecting Bio\n",
            "  Downloading bio-1.7.0-py3-none-any.whl (279 kB)\n",
            "\u001b[2K     \u001b[90m━━━━━━━━━━━━━━━━━━━━━━━━━━━━━━━━━━━━━━━━\u001b[0m \u001b[32m279.2/279.2 kB\u001b[0m \u001b[31m5.1 MB/s\u001b[0m eta \u001b[36m0:00:00\u001b[0m\n",
            "\u001b[?25hCollecting biopython>=1.80 (from Bio)\n",
            "  Downloading biopython-1.83-cp310-cp310-manylinux_2_17_x86_64.manylinux2014_x86_64.whl (3.1 MB)\n",
            "\u001b[2K     \u001b[90m━━━━━━━━━━━━━━━━━━━━━━━━━━━━━━━━━━━━━━━━\u001b[0m \u001b[32m3.1/3.1 MB\u001b[0m \u001b[31m22.6 MB/s\u001b[0m eta \u001b[36m0:00:00\u001b[0m\n",
            "\u001b[?25hCollecting gprofiler-official (from Bio)\n",
            "  Downloading gprofiler_official-1.0.0-py3-none-any.whl (9.3 kB)\n",
            "Collecting mygene (from Bio)\n",
            "  Downloading mygene-3.2.2-py2.py3-none-any.whl (5.4 kB)\n",
            "Requirement already satisfied: pandas in /usr/local/lib/python3.10/dist-packages (from Bio) (2.0.3)\n",
            "Requirement already satisfied: pooch in /usr/local/lib/python3.10/dist-packages (from Bio) (1.8.1)\n",
            "Requirement already satisfied: requests in /usr/local/lib/python3.10/dist-packages (from Bio) (2.31.0)\n",
            "Requirement already satisfied: tqdm in /usr/local/lib/python3.10/dist-packages (from Bio) (4.66.4)\n",
            "Requirement already satisfied: numpy in /usr/local/lib/python3.10/dist-packages (from biopython>=1.80->Bio) (1.25.2)\n",
            "Collecting biothings-client>=0.2.6 (from mygene->Bio)\n",
            "  Downloading biothings_client-0.3.1-py2.py3-none-any.whl (29 kB)\n",
            "Requirement already satisfied: python-dateutil>=2.8.2 in /usr/local/lib/python3.10/dist-packages (from pandas->Bio) (2.8.2)\n",
            "Requirement already satisfied: pytz>=2020.1 in /usr/local/lib/python3.10/dist-packages (from pandas->Bio) (2023.4)\n",
            "Requirement already satisfied: tzdata>=2022.1 in /usr/local/lib/python3.10/dist-packages (from pandas->Bio) (2024.1)\n",
            "Requirement already satisfied: platformdirs>=2.5.0 in /usr/local/lib/python3.10/dist-packages (from pooch->Bio) (4.2.1)\n",
            "Requirement already satisfied: packaging>=20.0 in /usr/local/lib/python3.10/dist-packages (from pooch->Bio) (24.0)\n",
            "Requirement already satisfied: charset-normalizer<4,>=2 in /usr/local/lib/python3.10/dist-packages (from requests->Bio) (3.3.2)\n",
            "Requirement already satisfied: idna<4,>=2.5 in /usr/local/lib/python3.10/dist-packages (from requests->Bio) (3.7)\n",
            "Requirement already satisfied: urllib3<3,>=1.21.1 in /usr/local/lib/python3.10/dist-packages (from requests->Bio) (2.0.7)\n",
            "Requirement already satisfied: certifi>=2017.4.17 in /usr/local/lib/python3.10/dist-packages (from requests->Bio) (2024.2.2)\n",
            "Requirement already satisfied: six>=1.5 in /usr/local/lib/python3.10/dist-packages (from python-dateutil>=2.8.2->pandas->Bio) (1.16.0)\n",
            "Installing collected packages: biopython, gprofiler-official, biothings-client, mygene, Bio\n",
            "Successfully installed Bio-1.7.0 biopython-1.83 biothings-client-0.3.1 gprofiler-official-1.0.0 mygene-3.2.2\n"
          ]
        }
      ]
    },
    {
      "cell_type": "code",
      "source": [
        "dataset_folder = \"/content/fastq_dataset\"\n",
        "process_fastq_files(dataset_folder)"
      ],
      "metadata": {
        "id": "weTLg6trqgHB"
      },
      "execution_count": 9,
      "outputs": []
    },
    {
      "cell_type": "markdown",
      "source": [],
      "metadata": {
        "id": "WXoc17ZMyi4J"
      }
    },
    {
      "cell_type": "code",
      "source": [
        "def zip_and_move(source_folder, dest_folder, zip_filename):\n",
        "    # Create a zip file\n",
        "    zip_file_path = os.path.join(dest_folder, zip_filename)\n",
        "    with zipfile.ZipFile(zip_file_path, 'w', zipfile.ZIP_DEFLATED) as zipf:\n",
        "        for root, dirs, files in os.walk(source_folder):\n",
        "            for file in files:\n",
        "                file_path = os.path.join(root, file)\n",
        "                zipf.write(file_path, os.path.relpath(file_path, source_folder))\n",
        "\n",
        "    # Move the zip file to the destination folder\n",
        "    shutil.move(zip_file_path, os.path.join(dest_folder, zip_filename))"
      ],
      "metadata": {
        "id": "GZmu7_ZzyjlY"
      },
      "execution_count": 11,
      "outputs": []
    },
    {
      "cell_type": "code",
      "source": [
        "source_folder = \"/content/filtered_reads\"\n",
        "dest_folder = \"/content/drive/MyDrive/BIOINFORMATICS/THESIS_KECHAGIAS/DATA/DATASET\"\n",
        "zip_filename = \"filtered_reads.zip\"\n",
        "\n",
        "zip_and_move(source_folder, dest_folder, zip_filename)"
      ],
      "metadata": {
        "id": "IPwQp7H6yqaE"
      },
      "execution_count": 12,
      "outputs": []
    }
  ]
}