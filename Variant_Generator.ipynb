{
  "nbformat": 4,
  "nbformat_minor": 0,
  "metadata": {
    "colab": {
      "provenance": [],
      "authorship_tag": "ABX9TyMKzdJnXRS7wvM53r7ebQ9J",
      "include_colab_link": true
    },
    "kernelspec": {
      "name": "python3",
      "display_name": "Python 3"
    },
    "language_info": {
      "name": "python"
    }
  },
  "cells": [
    {
      "cell_type": "markdown",
      "metadata": {
        "id": "view-in-github",
        "colab_type": "text"
      },
      "source": [
        "<a href=\"https://colab.research.google.com/github/andrkech/GENERATIVE-METHODS-IN-GENOMICS/blob/main/Variant_Generator.ipynb\" target=\"_parent\"><img src=\"https://colab.research.google.com/assets/colab-badge.svg\" alt=\"Open In Colab\"/></a>"
      ]
    },
    {
      "cell_type": "code",
      "execution_count": null,
      "metadata": {
        "id": "WbUijJsURQ23"
      },
      "outputs": [],
      "source": [
        "import random\n",
        "import pandas as pd"
      ]
    },
    {
      "cell_type": "code",
      "source": [
        "def introduce_variant(seq, position, ref_base, alt_base):\n",
        "  seq_list = list(seq)\n",
        "  seq_list[position] = alt_base\n",
        "  return \"\".join(seq_list)"
      ],
      "metadata": {
        "id": "QlB9OFMIRXtN"
      },
      "execution_count": null,
      "outputs": []
    },
    {
      "cell_type": "code",
      "source": [
        "csv_file_oath = \"/content/...\"\n",
        "pd.read_csv(csv_file_path)\n",
        "df = pd.read_csv(csv_file_path)"
      ],
      "metadata": {
        "id": "IomVF6V-S5Pf"
      },
      "execution_count": null,
      "outputs": []
    },
    {
      "cell_type": "code",
      "source": [
        "try:\n",
        "  line_number = int(input(\"Choose a variant from the CSV file\"))\n",
        "\n",
        "  row = df.iloc[line_number]\n",
        "\n",
        "  variant_info = {\n",
        "                  \"SampleID\": selected_row[\"SampleID\"],\n",
        "                  \"Gene\": selected_row[\"Gene.refGene\"],\n",
        "                  \"Chromosome\": selected_row[\"CHROM\"],\n",
        "                  \"Position\": selected_row[\"POS\"],\n",
        "                  \"RefBase\": selected_row[\"REF\"],\n",
        "                  \"AltBase\": selected_row[\"ALT\"]\n",
        "                  }\n",
        "\n",
        "'''\n",
        "for key, value in variant_info.items():\n",
        "  print(f\"{key}: {value}\")\n",
        "'''\n",
        "except (ValueError, IndexError):\n",
        "  print(\"Invalid line number\")"
      ],
      "metadata": {
        "id": "jDhJT0iXTSG6"
      },
      "execution_count": null,
      "outputs": []
    }
  ]
}