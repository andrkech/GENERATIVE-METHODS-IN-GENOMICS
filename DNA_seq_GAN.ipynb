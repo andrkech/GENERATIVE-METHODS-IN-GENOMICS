{
  "nbformat": 4,
  "nbformat_minor": 0,
  "metadata": {
    "colab": {
      "provenance": [],
      "authorship_tag": "ABX9TyPFoFIP5I/5kbdJDsCVHWZb",
      "include_colab_link": true
    },
    "kernelspec": {
      "name": "python3",
      "display_name": "Python 3"
    },
    "language_info": {
      "name": "python"
    }
  },
  "cells": [
    {
      "cell_type": "markdown",
      "metadata": {
        "id": "view-in-github",
        "colab_type": "text"
      },
      "source": [
        "<a href=\"https://colab.research.google.com/github/andrkech/GENERATIVE-METHODS-IN-GENOMICS/blob/main/DNA_seq_GAN.ipynb\" target=\"_parent\"><img src=\"https://colab.research.google.com/assets/colab-badge.svg\" alt=\"Open In Colab\"/></a>"
      ]
    },
    {
      "cell_type": "markdown",
      "source": [
        "## Libraries"
      ],
      "metadata": {
        "id": "h01blEsAF3jw"
      }
    },
    {
      "cell_type": "code",
      "source": [
        "!pip install pytorch-lightning"
      ],
      "metadata": {
        "id": "jc4vWOvgGF-T"
      },
      "execution_count": null,
      "outputs": []
    },
    {
      "cell_type": "code",
      "source": [
        "import os\n",
        "import torch\n",
        "import torch.nn as nn\n",
        "import torch.nn.functional as F\n",
        "import pytorch_lightning as pl\n",
        "from torch.utils.data import DataLoader\n",
        "import torch.optim as optim\n",
        "import numpy as np"
      ],
      "metadata": {
        "id": "rXfyGpMAGEg1"
      },
      "execution_count": null,
      "outputs": []
    },
    {
      "cell_type": "markdown",
      "source": [
        "## Dataset"
      ],
      "metadata": {
        "id": "cbCRFrlnGYwy"
      }
    },
    {
      "cell_type": "code",
      "source": [
        "# Define dataset for DNA sequences.\n",
        "\n",
        "class DNADataset(Dataset):\n",
        "    def __init__(self, dna_sequences):\n",
        "        self.dna_sequences = dna_sequences\n",
        "\n",
        "    def __len__(self):\n",
        "        return len(self.dna_sequences)\n",
        "\n",
        "    def __getitem__(self, idx):\n",
        "        dna_sequence = self.dna_sequences[idx]\n",
        "        return dna_sequence"
      ],
      "metadata": {
        "id": "10H2-S-FF_8b"
      },
      "execution_count": null,
      "outputs": []
    },
    {
      "cell_type": "markdown",
      "source": [
        "## Generator"
      ],
      "metadata": {
        "id": "mw14qBJ0Fdkc"
      }
    },
    {
      "cell_type": "code",
      "source": [
        "class Generator(nn.Module):\n",
        "    def __init__(self, latent_dim, sequence_length):\n",
        "        super().__init__()\n",
        "        self.latent_dim = latent_dim\n",
        "        self.sequence_length = sequence_length\n",
        "        self.fc1 = nn.Linear(latent_dim, 128)\n",
        "        self.fc2 = nn.Linear(128, 256)\n",
        "        self.fc3 = nn.Linear(256, sequence_length * 4)\n",
        "        self.fc4 = nn.Linear(sequence_length * 4, sequence_length)\n",
        "\n",
        "    def forward(self, z):\n",
        "        x = F.relu(self.fc1(z))\n",
        "        x = F.relu(self.fc2(x))\n",
        "        x = F.relu(self.fc3(x))\n",
        "        x = self.fc4(x)\n",
        "        return x"
      ],
      "metadata": {
        "id": "aS3zIeTp0JhQ"
      },
      "execution_count": null,
      "outputs": []
    },
    {
      "cell_type": "markdown",
      "source": [
        "## Discriminator"
      ],
      "metadata": {
        "id": "NNf5ofzfFk_o"
      }
    },
    {
      "cell_type": "code",
      "source": [
        "class Discriminator(nn.Module):\n",
        "    def __init__(self, sequence_length):\n",
        "        super().__init__()\n",
        "        self.sequence_length = sequence_length\n",
        "        self.fc1 = nn.Linear(sequence_length, 256)\n",
        "        self.fc2 = nn.Linear(256, 128)\n",
        "        self.fc3 = nn.Linear(128, 1)\n",
        "\n",
        "    def forward(self, x):\n",
        "        x = F.relu(self.fc1(x))\n",
        "        x = F.relu(self.fc2(x))\n",
        "        x = torch.sigmoid(self.fc3(x))\n",
        "        return x"
      ],
      "metadata": {
        "id": "1lUvsPUlFn6l"
      },
      "execution_count": null,
      "outputs": []
    },
    {
      "cell_type": "markdown",
      "source": [
        "## GAN"
      ],
      "metadata": {
        "id": "zkl2DoIjFqdD"
      }
    },
    {
      "cell_type": "code",
      "source": [
        "class GAN(pl.LightningModule):\n",
        "    def __init__(self, latent_dim=100, sequence_length=50, lr=0.0002):\n",
        "        super().__init__()\n",
        "        self.save_hyperparameters()\n",
        "        self.generator = Generator(latent_dim=latent_dim, sequence_length=sequence_length)\n",
        "        self.discriminator = Discriminator(sequence_length=sequence_length)\n",
        "        self.validation_z = torch.randn(6, latent_dim)\n",
        "\n",
        "        # Turn off automatic optimization\n",
        "        self.automatic_optimization = False\n",
        "\n",
        "    def forward(self, z):\n",
        "        return self.generator(z)\n",
        "\n",
        "    def training_step(self, batch, batch_idx, optimizer_idx):\n",
        "        real_dna = batch\n",
        "        z = torch.randn(real_dna.shape[0], self.hparams.latent_dim)\n",
        "        z = z.type_as(real_dna)\n",
        "\n",
        "        fake_dna = self(z)\n",
        "\n",
        "        # Get the optimizers manually\n",
        "        opt_g, opt_d = self.optimizers()\n",
        "\n",
        "        if optimizer_idx == 0:\n",
        "            # Generator loss\n",
        "            g_loss = F.mse_loss(fake_dna, real_dna)\n",
        "            log_dict = {'g_loss': g_loss}\n",
        "            return {'loss': g_loss, 'progress_bar': log_dict, 'log': log_dict}\n",
        "\n",
        "        if optimizer_idx == 1:\n",
        "            # Discriminator loss\n",
        "            real_labels = torch.ones(real_dna.shape[0], 1)\n",
        "            fake_labels = torch.zeros(fake_dna.shape[0], 1)\n",
        "            real_labels = real_labels.type_as(real_dna)\n",
        "            fake_labels = fake_labels.type_as(real_dna)\n",
        "\n",
        "            real_pred = self.discriminator(real_dna)\n",
        "            fake_pred = self.discriminator(fake_dna.detach())\n",
        "\n",
        "            d_real_loss = F.binary_cross_entropy(real_pred, real_labels)\n",
        "            d_fake_loss = F.binary_cross_entropy(fake_pred, fake_labels)\n",
        "            d_loss = d_real_loss + d_fake_loss\n",
        "\n",
        "            log_dict = {'d_loss': d_loss}\n",
        "            return {'loss': d_loss, 'progress_bar': log_dict, 'log': log_dict}\n",
        "\n",
        "    def configure_optimizers(self):\n",
        "        lr = self.hparams.lr\n",
        "        opt_g = torch.optim.Adam(self.generator.parameters(), lr=lr)\n",
        "        opt_d = torch.optim.Adam(self.discriminator.parameters(), lr=lr)\n",
        "        return [opt_g, opt_d], []"
      ],
      "metadata": {
        "id": "3zJteYUP0Nd6"
      },
      "execution_count": null,
      "outputs": []
    },
    {
      "cell_type": "markdown",
      "source": [
        "## Synthetic DNA sequences"
      ],
      "metadata": {
        "id": "NPl_o41yGqAC"
      }
    },
    {
      "cell_type": "code",
      "source": [
        "# Create synthetic DNA sequences.\n",
        "num_sequences = 1000\n",
        "sequence_length = 50\n",
        "dna_sequences = [\"\".join(np.random.choice([\"A\", \"T\", \"C\", \"G\"], size=sequence_length)) for _ in range(num_sequences)]\n",
        "\n",
        "# Create DNADataset and DataLoader.\n",
        "dna_dataset = DNADataset(dna_sequences)\n",
        "batch_size = 64\n",
        "data_loader = DataLoader(dna_dataset, batch_size=batch_size, shuffle=True)"
      ],
      "metadata": {
        "id": "Pb7A5QGd0XXt"
      },
      "execution_count": null,
      "outputs": []
    },
    {
      "cell_type": "markdown",
      "source": [
        "## Model Initialization"
      ],
      "metadata": {
        "id": "Y6GPA50UGyMr"
      }
    },
    {
      "cell_type": "code",
      "source": [
        "# Initialize GAN model.\n",
        "latent_dim = 20\n",
        "model = GAN(latent_dim=latent_dim, sequence_length=sequence_length)\n",
        "\n",
        "# Initialize Trainer.\n",
        "trainer = pl.Trainer(max_epochs=20, accelerator=\"auto\")"
      ],
      "metadata": {
        "id": "WGsltaPq0r5Q"
      },
      "execution_count": null,
      "outputs": []
    },
    {
      "cell_type": "markdown",
      "source": [
        "## GAN Training"
      ],
      "metadata": {
        "id": "qdIA79EfG26F"
      }
    },
    {
      "cell_type": "code",
      "source": [
        "# Train the GAN.\n",
        "trainer.fit(model, data_loader)\n",
        "\n",
        "# Generate new DNA sequences using the trained GAN.\n",
        "def generate_sequences(num_sequences):\n",
        "    model.eval()\n",
        "    with torch.no_grad():\n",
        "        z = torch.randn(num_sequences, latent_dim)\n",
        "        generated_dna = model(z)\n",
        "    return generated_dna"
      ],
      "metadata": {
        "id": "4riITlE20xgK"
      },
      "execution_count": null,
      "outputs": []
    },
    {
      "cell_type": "code",
      "source": [
        "# Generate new DNA sequences\n",
        "num_generated_sequences = 10\n",
        "generated_sequences = generate_sequences(num_generated_sequences)\n",
        "\n",
        "# Print the generated sequences\n",
        "for i, seq in enumerate(generated_sequences):\n",
        "    print(f\"Generated Sequence {i+1}: {seq}\")"
      ],
      "metadata": {
        "id": "B7STj8zt00Sn"
      },
      "execution_count": null,
      "outputs": []
    }
  ]
}