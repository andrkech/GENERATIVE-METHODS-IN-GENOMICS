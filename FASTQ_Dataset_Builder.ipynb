{
  "nbformat": 4,
  "nbformat_minor": 0,
  "metadata": {
    "colab": {
      "provenance": [],
      "authorship_tag": "ABX9TyPVl68WXovrKri511WXRcVX",
      "include_colab_link": true
    },
    "kernelspec": {
      "name": "python3",
      "display_name": "Python 3"
    },
    "language_info": {
      "name": "python"
    }
  },
  "cells": [
    {
      "cell_type": "markdown",
      "metadata": {
        "id": "view-in-github",
        "colab_type": "text"
      },
      "source": [
        "<a href=\"https://colab.research.google.com/github/andrkech/GENERATIVE-METHODS-IN-GENOMICS/blob/main/FASTQ_Dataset_Builder.ipynb\" target=\"_parent\"><img src=\"https://colab.research.google.com/assets/colab-badge.svg\" alt=\"Open In Colab\"/></a>"
      ]
    },
    {
      "cell_type": "code",
      "source": [
        "from google.colab import drive\n",
        "\n",
        "drive.mount('/content/drive')"
      ],
      "metadata": {
        "id": "lp_oMPfTkAIs",
        "colab": {
          "base_uri": "https://localhost:8080/"
        },
        "outputId": "69078ce4-700f-4e52-aa1f-7880affb5df7"
      },
      "execution_count": null,
      "outputs": [
        {
          "output_type": "stream",
          "name": "stdout",
          "text": [
            "Mounted at /content/drive\n"
          ]
        }
      ]
    },
    {
      "cell_type": "markdown",
      "source": [
        "## Import XML files with FASTQ files' links."
      ],
      "metadata": {
        "id": "KyX1AzRaHtAm"
      }
    },
    {
      "cell_type": "code",
      "source": [
        "!pip install rarfile\n",
        "\n",
        "import rarfile\n",
        "import os\n",
        "\n",
        "dataset_drive_path = \"/content/drive/MyDrive/BIOINFORMATICS/THESIS_KECHAGIAS/DATA/ena_sra-experiment_20231030-2024.rar\"\n",
        "dataset_colab_path = \"/content/fastq_dataset/\"\n",
        "\n",
        "os.makedirs(dataset_colab_path, exist_ok=True)\n",
        "\n",
        "with rarfile.RarFile(dataset_drive_path) as rf:\n",
        "  rf.extractall(dataset_colab_path)"
      ],
      "metadata": {
        "id": "JRNTZp-zFgAC",
        "colab": {
          "base_uri": "https://localhost:8080/"
        },
        "outputId": "04419b64-bdd9-41a4-a766-582af7349d09"
      },
      "execution_count": null,
      "outputs": [
        {
          "output_type": "stream",
          "name": "stdout",
          "text": [
            "Collecting rarfile\n",
            "  Downloading rarfile-4.1-py3-none-any.whl (28 kB)\n",
            "Installing collected packages: rarfile\n",
            "Successfully installed rarfile-4.1\n"
          ]
        }
      ]
    },
    {
      "cell_type": "markdown",
      "source": [
        "## Download FASTQ files."
      ],
      "metadata": {
        "id": "dhnm-c1pH24p"
      }
    },
    {
      "cell_type": "code",
      "source": [
        "from lxml import etree\n",
        "\n",
        "# Create an XMLParser with error recovery\n",
        "parser = etree.XMLParser(recover=True)\n",
        "\n",
        "xml_file_path = \"/content/fastq_dataset/ena_sra-experiment_20231030-2024.xml\"\n",
        "\n",
        "# Try to parse the XML file\n",
        "try:\n",
        "    tree = etree.parse(xml_file_path, parser=parser)\n",
        "    root = tree.getroot()\n",
        "except Exception as e:\n",
        "    print(\"An error occurred while parsing the XML file:\")\n",
        "    print(e)\n",
        "    root = None\n",
        "\n",
        "# Download FASTQ files\n",
        "fastq_links = []\n",
        "\n",
        "if root is not None:\n",
        "    for experiment in root.findall('.//EXPERIMENT'):\n",
        "        experiment_links = experiment.findall('.//EXPERIMENT_LINKS/EXPERIMENT_LINK/XREF_LINK')\n",
        "        for link in experiment_links:\n",
        "            db = link.find('DB')\n",
        "            if db is not None and db.text == 'ENA-FASTQ-FILES':\n",
        "                fastq_link = link.find('ID')\n",
        "                if fastq_link is not None:\n",
        "                    fastq_links.append(fastq_link.text)\n",
        "\n",
        "'''\n",
        "# Print the list of FASTQ download links\n",
        "for link in fastq_links:\n",
        "    print(link)\n",
        "\n",
        "print(len(fastq_links))\n",
        "\n",
        "'''\n",
        "\n",
        "fastq_links_file = \"/content/fastq_links.txt\"\n",
        "with open(fastq_links_file, 'w') as file:\n",
        "    file.write('\\n'.join(fastq_links))"
      ],
      "metadata": {
        "id": "onRqLGKyimdt"
      },
      "execution_count": null,
      "outputs": []
    },
    {
      "cell_type": "code",
      "source": [
        "import requests\n",
        "\n",
        "# Download the FASTQ files\n",
        "download_dir = \"/content/fastq_files/\"\n",
        "os.makedirs(download_dir, exist_ok=True)\n",
        "\n",
        "for link in fastq_links:\n",
        "    file_name = link.split('/')[-1]\n",
        "    file_path = os.path.join(download_dir, file_name)\n",
        "\n",
        "    response = requests.get(link, stream=True)\n",
        "    if response.status_code == 200:\n",
        "        with open(file_path, 'wb') as f:\n",
        "            for chunk in response.iter_content(chunk_size=1024):\n",
        "                f.write(chunk)\n",
        "\n",
        "print(f\"Found {link_count} FASTQ links.\")\n",
        "print(f\"Links are saved to {links_file_path}.\")\n",
        "print(f\"FASTQ files are downloaded to {download_dir}.\")"
      ],
      "metadata": {
        "id": "AQzbCZ0FK-Ex"
      },
      "execution_count": null,
      "outputs": []
    }
  ]
}