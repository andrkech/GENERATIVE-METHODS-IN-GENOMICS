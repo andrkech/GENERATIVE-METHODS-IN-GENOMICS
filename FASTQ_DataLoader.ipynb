{
  "nbformat": 4,
  "nbformat_minor": 0,
  "metadata": {
    "colab": {
      "provenance": [],
      "collapsed_sections": [
        "b7OHL-Cv1dkL",
        "I0yGyfaTt6n3",
        "DKE1gaFlycvW",
        "MLiiBeYtyj73",
        "CdfH2RON1p9F",
        "PtfVuT_VgeLv",
        "_1iC3RB5gscc",
        "uj9rJ_kTiVdA",
        "bB0bKgk8ic8T",
        "-XCs01_gjKXX"
      ],
      "authorship_tag": "ABX9TyP6qq9DvISznvVPQgWz9987",
      "include_colab_link": true
    },
    "kernelspec": {
      "name": "python3",
      "display_name": "Python 3"
    },
    "language_info": {
      "name": "python"
    }
  },
  "cells": [
    {
      "cell_type": "markdown",
      "metadata": {
        "id": "view-in-github",
        "colab_type": "text"
      },
      "source": [
        "<a href=\"https://colab.research.google.com/github/andrkech/GENERATIVE-METHODS-IN-GENOMICS/blob/main/FASTQ_DataLoader.ipynb\" target=\"_parent\"><img src=\"https://colab.research.google.com/assets/colab-badge.svg\" alt=\"Open In Colab\"/></a>"
      ]
    },
    {
      "cell_type": "markdown",
      "source": [
        "## Load the Dataset."
      ],
      "metadata": {
        "id": "b7OHL-Cv1dkL"
      }
    },
    {
      "cell_type": "markdown",
      "source": [
        "### Connect with Google Drive."
      ],
      "metadata": {
        "id": "I0yGyfaTt6n3"
      }
    },
    {
      "cell_type": "code",
      "source": [
        "from google.colab import drive\n",
        "drive.mount('/content/drive')"
      ],
      "metadata": {
        "id": "PSDgVlCuuDbP",
        "colab": {
          "base_uri": "https://localhost:8080/"
        },
        "outputId": "9b91517c-8641-4e9d-b57e-c8e4ecc783df"
      },
      "execution_count": null,
      "outputs": [
        {
          "output_type": "stream",
          "name": "stdout",
          "text": [
            "Mounted at /content/drive\n"
          ]
        }
      ]
    },
    {
      "cell_type": "markdown",
      "source": [
        "### Import Libraries."
      ],
      "metadata": {
        "id": "DKE1gaFlycvW"
      }
    },
    {
      "cell_type": "code",
      "source": [
        "import os\n",
        "import random\n",
        "import shutil\n",
        "import zipfile\n",
        "import tarfile\n",
        "import numpy as np\n",
        "import matplotlib.pyplot as plt\n",
        "from sklearn.cluster import KMeans\n",
        "import tensorflow as tf\n",
        "from tensorflow.keras.utils import Sequence\n",
        "!pip install -q Bio\n",
        "from Bio import SeqIO"
      ],
      "metadata": {
        "id": "O1oBS28VyDg5",
        "colab": {
          "base_uri": "https://localhost:8080/"
        },
        "outputId": "826d46f4-f0d2-4073-b40f-474b3f61a44a"
      },
      "execution_count": null,
      "outputs": [
        {
          "output_type": "stream",
          "name": "stdout",
          "text": [
            "\u001b[?25l   \u001b[90m━━━━━━━━━━━━━━━━━━━━━━━━━━━━━━━━━━━━━━━━\u001b[0m \u001b[32m0.0/281.0 kB\u001b[0m \u001b[31m?\u001b[0m eta \u001b[36m-:--:--\u001b[0m\r\u001b[2K   \u001b[90m━━━━━━━━━━━━━━━━━━━━━━━━━━━━━━━━━━━━━━━━\u001b[0m \u001b[32m281.0/281.0 kB\u001b[0m \u001b[31m15.8 MB/s\u001b[0m eta \u001b[36m0:00:00\u001b[0m\n",
            "\u001b[?25h\u001b[?25l   \u001b[90m━━━━━━━━━━━━━━━━━━━━━━━━━━━━━━━━━━━━━━━━\u001b[0m \u001b[32m0.0/3.2 MB\u001b[0m \u001b[31m?\u001b[0m eta \u001b[36m-:--:--\u001b[0m\r\u001b[2K   \u001b[91m━━━━━━━━━━━━━━━━━━━━━━━━━━━━━━━━━━━━━━━\u001b[0m\u001b[91m╸\u001b[0m \u001b[32m3.2/3.2 MB\u001b[0m \u001b[31m131.9 MB/s\u001b[0m eta \u001b[36m0:00:01\u001b[0m\r\u001b[2K   \u001b[90m━━━━━━━━━━━━━━━━━━━━━━━━━━━━━━━━━━━━━━━━\u001b[0m \u001b[32m3.2/3.2 MB\u001b[0m \u001b[31m65.1 MB/s\u001b[0m eta \u001b[36m0:00:00\u001b[0m\n",
            "\u001b[?25h"
          ]
        }
      ]
    },
    {
      "cell_type": "markdown",
      "source": [
        "### Unzip the dataset folder and import it into the Colab notebook."
      ],
      "metadata": {
        "id": "MLiiBeYtyj73"
      }
    },
    {
      "cell_type": "code",
      "source": [
        "def extract_or_create_zip(source_path, extract_path):\n",
        "    if os.path.isdir(source_path):\n",
        "        shutil.make_archive(extract_path, \"zip\", source_path)\n",
        "        print(f\"Created ZIP file from directory: {source_path}\")\n",
        "\n",
        "    elif os.path.isfile(source_path) and source_path.lower().endswith('.zip'):\n",
        "        with zipfile.ZipFile(source_path, 'r') as zip_ref:\n",
        "            zip_ref.extractall(extract_path)\n",
        "            print(f\"Extraction completed successfully: {source_path}\")\n",
        "\n",
        "    else:\n",
        "        print(f\"Error: Invalid source path '{source_path}'. Must be a directory or a ZIP file.\")"
      ],
      "metadata": {
        "id": "Dfq3unrswb4F"
      },
      "execution_count": null,
      "outputs": []
    },
    {
      "cell_type": "code",
      "source": [
        "# Define source and extraction paths\n",
        "source_path = \"/content/drive/MyDrive/BIOINFORMATICS/THESIS_KECHAGIAS/DATA/DATASET/FASTQ_FILES.zip\"\n",
        "extract_path = \"/content/fastq_dataset\"\n",
        "\n",
        "# Extract or create ZIP file based on source path\n",
        "extract_or_create_zip(source_path, extract_path)"
      ],
      "metadata": {
        "colab": {
          "base_uri": "https://localhost:8080/"
        },
        "id": "WKr3_jFd6p_Z",
        "outputId": "f3b58d91-d8cc-4628-88c7-dcb8d216192e"
      },
      "execution_count": null,
      "outputs": [
        {
          "output_type": "stream",
          "name": "stdout",
          "text": [
            "Extraction completed successfully: /content/drive/MyDrive/BIOINFORMATICS/THESIS_KECHAGIAS/DATA/DATASET/FASTQ_FILES.zip\n"
          ]
        }
      ]
    },
    {
      "cell_type": "markdown",
      "source": [
        "## Build the DataLoader."
      ],
      "metadata": {
        "id": "CdfH2RON1p9F"
      }
    },
    {
      "cell_type": "markdown",
      "source": [
        "### Create a FASTQ Dataset Class. (not used)"
      ],
      "metadata": {
        "id": "PtfVuT_VgeLv"
      }
    },
    {
      "cell_type": "code",
      "execution_count": null,
      "metadata": {
        "id": "xde4i1HfSIAg"
      },
      "outputs": [],
      "source": [
        "class FastqDataset:\n",
        "    def __init__(self, data_dir, batch_size, shuffle=True):\n",
        "        self.data_dir = data_dir\n",
        "        self.batch_size = batch_size\n",
        "        self.shuffle = shuffle\n",
        "        self.file_list = self.get_file_list()\n",
        "        self.indexes = list(range(len(self.file_list)))\n",
        "        self.num_samples = self.calculate_num_samples()\n",
        "        self.num_batches = self.num_samples // self.batch_size\n",
        "\n",
        "    def calculate_num_samples(self):\n",
        "        total_samples = 0\n",
        "        for file_path in self.file_list:\n",
        "            for record in SeqIO.parse(file_path, 'fastq'):\n",
        "                total_samples += 1\n",
        "        return total_samples\n",
        "\n",
        "    def get_file_list(self):\n",
        "        return [os.path.join(self.data_dir, f) for f in os.listdir(self.data_dir) if f.endswith(\".fastq\")]\n",
        "\n",
        "    def parse_fastq(self, file_path):\n",
        "        reads, qualities = [], []\n",
        "        for record in SeqIO.parse(file_path, 'fastq'):\n",
        "            reads.append(str(record.seq))\n",
        "            qualities.append(record.letter_annotations['phred_quality'])\n",
        "        return reads, qualities\n",
        "\n",
        "    def load_batch(self, batch_files):\n",
        "        batch_data = []\n",
        "        for file_path in batch_files:\n",
        "            reads, qualities = self.parse_fastq(file_path)\n",
        "            batch_data.extend(qualities)\n",
        "        return batch_data\n",
        "\n",
        "    def pad_batch(self, batch_data, batch_size):\n",
        "        padding_data = batch_data.copy()\n",
        "        while len(padding_data) < batch_size:\n",
        "            padding_data.append(batch_data[len(padding_data) % len(batch_data)])\n",
        "        return padding_data\n",
        "\n",
        "    def data_generator(self, num_samples=None):\n",
        "        if self.shuffle:\n",
        "            random.shuffle(self.indexes)\n",
        "\n",
        "        total_samples = num_samples if num_samples is not None else len(self.indexes)\n",
        "        for start in range(0, total_samples, self.batch_size):\n",
        "            end = min(start + self.batch_size, total_samples)\n",
        "            batch_indexes = self.indexes[start:end]\n",
        "            batch_files = [self.file_list[i] for i in batch_indexes]\n",
        "            batch_data = self.load_batch(batch_files)\n",
        "\n",
        "            if len(batch_data) < self.batch_size:\n",
        "                batch_data = self.pad_batch(batch_data, self.batch_size)\n",
        "\n",
        "            # Convert to tensor and ensure the right shape\n",
        "            batch_data = tf.ragged.constant(batch_data, dtype=tf.int32).to_tensor(shape=(self.batch_size, -1, 1))\n",
        "            yield batch_data\n",
        "\n",
        "    def create_tf_dataset(self, num_samples=None):\n",
        "        output_signature = tf.TensorSpec(shape=(self.batch_size, None, 1), dtype=tf.int32)\n",
        "        dataset = tf.data.Dataset.from_generator(\n",
        "            lambda: self.data_generator(num_samples),\n",
        "            output_signature=output_signature\n",
        "        )\n",
        "        dataset = dataset.prefetch(buffer_size=tf.data.experimental.AUTOTUNE)\n",
        "        return dataset\n",
        "\n",
        "    def get_num_batches(self):\n",
        "        return self.num_batches\n",
        "\n",
        "    def __iter__(self):\n",
        "        return self.data_generator()\n",
        "\n",
        "# Create the FASTQ dataset obect\n",
        "#fastq_dataset = FastqDataset(data_dir=DATA_DIR, batch_size=BATCH_SIZE)"
      ]
    },
    {
      "cell_type": "markdown",
      "source": [
        "### Create a Quality Score Dataset Class."
      ],
      "metadata": {
        "id": "_1iC3RB5gscc"
      }
    },
    {
      "cell_type": "code",
      "execution_count": null,
      "metadata": {
        "id": "3og2hMkdecMJ"
      },
      "outputs": [],
      "source": [
        "class QualityScoreDataset:\n",
        "    def __init__(self, data_dir, buffer_size=10000, shuffle=True, seed=None):\n",
        "        self.data_dir = data_dir\n",
        "        self.shuffle = shuffle\n",
        "        self.seed = seed\n",
        "        self.buffer_size = buffer_size\n",
        "        self.file_list = self.get_file_list()\n",
        "\n",
        "    def get_file_list(self):\n",
        "        return [os.path.join(self.data_dir, f) for f in os.listdir(self.data_dir) if f.endswith(\".fastq\")]\n",
        "\n",
        "    def parse_fastq(self, file_path):\n",
        "        qualities = []\n",
        "        for record in SeqIO.parse(file_path, 'fastq'):\n",
        "            qualities.append(record.letter_annotations['phred_quality'])\n",
        "        return qualities\n",
        "\n",
        "    def quality_scores_generator(self):\n",
        "        for file_path in self.file_list:\n",
        "            qualities = self.parse_fastq(file_path)\n",
        "            for quality in qualities:\n",
        "                if len(quality) == 300:\n",
        "                    normalized_quality = [q / 93.0 for q in quality]  # Sanger encoding (Phred+33)\n",
        "                    yield tf.expand_dims(tf.convert_to_tensor(normalized_quality, dtype=tf.float32), axis=-1)\n",
        "\n",
        "    def create_tf_dataset(self):\n",
        "        dataset = tf.data.Dataset.from_generator(\n",
        "            self.quality_scores_generator,\n",
        "            output_signature=tf.TensorSpec(shape=(300, 1), dtype=tf.float32)\n",
        "        )\n",
        "        if self.shuffle:\n",
        "            dataset = dataset.shuffle(buffer_size=self.buffer_size, seed=self.seed)\n",
        "        dataset = dataset.prefetch(tf.data.experimental.AUTOTUNE)\n",
        "        return dataset\n",
        "\n",
        "    def calculate_sequence_insights(self, sample_size=None, seed=None):\n",
        "        insights = []\n",
        "        quality_scores = list(self.quality_scores_generator())\n",
        "\n",
        "        if sample_size:\n",
        "            if seed is not None:\n",
        "                random.seed(seed)\n",
        "\n",
        "            sampled_indices = random.sample(range(len(quality_scores)), min(sample_size, len(quality_scores)))\n",
        "            sampled_qualities = [quality_scores[i].numpy().flatten() for i in sampled_indices]\n",
        "\n",
        "            for seq_num, quality in zip(sampled_indices, sampled_qualities):\n",
        "                quality_array = np.array(quality)\n",
        "                mean_val = np.mean(quality_array)\n",
        "                std_val = np.std(quality_array)\n",
        "                min_val = np.min(quality_array)\n",
        "                max_val = np.max(quality_array)\n",
        "                insights.append({\n",
        "                    'Sequence Number': seq_num,\n",
        "                    'Mean': mean_val,\n",
        "                    'Standard Deviation': std_val,\n",
        "                    'Minimum': min_val,\n",
        "                    'Maximum': max_val\n",
        "                })\n",
        "        else:\n",
        "            for seq_num, quality in enumerate(quality_scores):\n",
        "                quality_array = quality.numpy().flatten()\n",
        "                mean_val = np.mean(quality_array)\n",
        "                std_val = np.std(quality_array)\n",
        "                min_val = np.min(quality_array)\n",
        "                max_val = np.max(quality_array)\n",
        "                insights.append({\n",
        "                    'Sequence Number': seq_num,\n",
        "                    'Mean': mean_val,\n",
        "                    'Standard Deviation': std_val,\n",
        "                    'Minimum': min_val,\n",
        "                    'Maximum': max_val\n",
        "                })\n",
        "\n",
        "        return insights\n",
        "\n",
        "    def display_insights(self, insights):\n",
        "        print(f\"{'Sequence':<15} {'Mean':<15} {'Std Dev':<15} {'Min':<10} {'Max':<10}\")\n",
        "        print(\"=\"*65)\n",
        "        for insight in insights:\n",
        "            print(f\"{insight['Sequence Number']:<15} {insight['Mean']:<15.2f} {insight['Standard Deviation']:<15.2f} {insight['Minimum']:<10} {insight['Maximum']:<10}\")"
      ]
    },
    {
      "cell_type": "markdown",
      "source": [
        "### Create a dataset object."
      ],
      "metadata": {
        "id": "uj9rJ_kTiVdA"
      }
    },
    {
      "cell_type": "markdown",
      "source": [
        "Define hyperparameters and create the object."
      ],
      "metadata": {
        "id": "qMEnnRTcitwa"
      }
    },
    {
      "cell_type": "code",
      "execution_count": null,
      "metadata": {
        "id": "pO1ZDAhmecMK"
      },
      "outputs": [],
      "source": [
        "BUFFER_SIZE = 1000\n",
        "SEED = 42\n",
        "\n",
        "quality_dataset = QualityScoreDataset(data_dir=extract_path, buffer_size=BUFFER_SIZE, shuffle=True, seed=SEED)"
      ]
    },
    {
      "cell_type": "markdown",
      "source": [
        "Calculate and display the insights of the dataset."
      ],
      "metadata": {
        "id": "ENpAfDmNi011"
      }
    },
    {
      "cell_type": "code",
      "execution_count": null,
      "metadata": {
        "id": "dI1sNN44GXFU"
      },
      "outputs": [],
      "source": [
        "#sequence_insights = quality_dataset.calculate_sequence_insights(sample_size=5, seed=42)\n",
        "#quality_dataset.display_insights(sequence_insights)"
      ]
    },
    {
      "cell_type": "markdown",
      "source": [
        "### Create a Tensor dataset."
      ],
      "metadata": {
        "id": "bB0bKgk8ic8T"
      }
    },
    {
      "cell_type": "code",
      "source": [
        "tf_dataset = quality_dataset.create_tf_dataset()"
      ],
      "metadata": {
        "id": "2-y2poeuFU2V"
      },
      "execution_count": null,
      "outputs": []
    },
    {
      "cell_type": "markdown",
      "source": [
        "## Save the Tensor dataset in Drive."
      ],
      "metadata": {
        "id": "-XCs01_gjKXX"
      }
    },
    {
      "cell_type": "code",
      "execution_count": null,
      "metadata": {
        "id": "bACHVuu_EeTG",
        "colab": {
          "base_uri": "https://localhost:8080/",
          "height": 36
        },
        "outputId": "0de76fa3-143e-4cb3-ae2c-28064b6811b0"
      },
      "outputs": [
        {
          "output_type": "execute_result",
          "data": {
            "text/plain": [
              "'\\n# Save the dataset using tf.data.experimental.save()\\ntf.data.experimental.save(tf_dataset, full_save_path)\\nprint(f\"Dataset saved to {full_save_path}\")\\n'"
            ],
            "application/vnd.google.colaboratory.intrinsic+json": {
              "type": "string"
            }
          },
          "metadata": {},
          "execution_count": 1
        }
      ],
      "source": [
        "# Directory to save the dataset\n",
        "save_dir = '/content/drive/MyDrive/BIOINFORMATICS/THESIS_KECHAGIAS/DATA/DATASET'\n",
        "save_name = f'phred300_tf_dataset'\n",
        "full_save_path = os.path.join(save_dir, save_name)\n",
        "\n",
        "# Save the dataset using tf.data.experimental.save()\n",
        "tf.data.experimental.save(tf_dataset, full_save_path)\n",
        "print(f\"Dataset saved to {full_save_path}\")"
      ]
    },
    {
      "cell_type": "markdown",
      "source": [
        "Check whether there are invalid values in the dataset."
      ],
      "metadata": {
        "id": "tt_KP5LTr_sA"
      }
    },
    {
      "cell_type": "code",
      "source": [
        "tf_dataset_dir = '/content/drive/MyDrive/BIOINFORMATICS/THESIS_KECHAGIAS/DATA/DATASET/phred300_tf_dataset'\n",
        "tf_dataset = tf.data.Dataset.load(tf_dataset_dir).batch(32)\n",
        "print(\"Dataset loaded successfully.\")\n",
        "\n",
        "outliers = []\n",
        "\n",
        "# Iterate over batches and elements\n",
        "for batch in tf_dataset.take(10):\n",
        "    for element in batch:\n",
        "        # Convert each element to a NumPy array and get values over 0.4\n",
        "        outl_values = element.numpy()[element.numpy() > 0.41]\n",
        "\n",
        "        if outl_values.size > 0:  # Check if any outliers were found in this element\n",
        "            outliers.extend(outl_values)  # Add outliers to the list\n",
        "\n",
        "# Print the outliers\n",
        "print(f\"Values higher than 0.41: {outliers}\")"
      ],
      "metadata": {
        "colab": {
          "base_uri": "https://localhost:8080/"
        },
        "id": "WpH8d0urJFau",
        "outputId": "b720647f-f6bd-4266-d801-210a611043fc"
      },
      "execution_count": null,
      "outputs": [
        {
          "output_type": "stream",
          "name": "stdout",
          "text": [
            "Dataset loaded successfully.\n",
            "Values higher than 0.41: []\n"
          ]
        }
      ]
    }
  ]
}