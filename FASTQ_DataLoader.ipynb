{
  "nbformat": 4,
  "nbformat_minor": 0,
  "metadata": {
    "colab": {
      "provenance": [],
      "authorship_tag": "ABX9TyNGQnaUQ9ATyZOB+9IwuI7o",
      "include_colab_link": true
    },
    "kernelspec": {
      "name": "python3",
      "display_name": "Python 3"
    },
    "language_info": {
      "name": "python"
    }
  },
  "cells": [
    {
      "cell_type": "markdown",
      "metadata": {
        "id": "view-in-github",
        "colab_type": "text"
      },
      "source": [
        "<a href=\"https://colab.research.google.com/github/andrkech/GENERATIVE-METHODS-IN-GENOMICS/blob/main/FASTQ_DataLoader.ipynb\" target=\"_parent\"><img src=\"https://colab.research.google.com/assets/colab-badge.svg\" alt=\"Open In Colab\"/></a>"
      ]
    },
    {
      "cell_type": "code",
      "execution_count": null,
      "metadata": {
        "id": "FSjPnKG_ZFZP"
      },
      "outputs": [],
      "source": [
        "import os\n",
        "import numpy as np\n",
        "import tensorflow as tf\n",
        "\n",
        "BATCH_SIZE = 32\n",
        "FASTQ_DIR = \"/content/fastq_dataset/\"\n",
        "\n",
        "train_dataset = data_generator.flow_from_directory(fastq_dir,\n",
        "                                                   target_size)\n",
        "\n",
        "class FASTQ_DataLoader(seq_length):\n",
        "  def __inti__(self, data_dir, batch_size, seq_length):\n",
        "    self.data_dir = data_dir\n",
        "    self.batch_size = batch_size\n",
        "    self.seq_length = seq_length\n",
        "\n",
        "    self.fastq_files = [f for f in os.listdir(data_dir)]\n",
        "\n",
        "    def load_batch(self):\n",
        "      batch_files = np.random.choice(self.fastq_files, size=self.batch_size, replace=False)\n",
        "      batch_sequences = []\n",
        "      bath_quality_scores = []\n",
        "\n",
        "      for file in batch_files:\n",
        "        file_path = os.path.join(self.data_dir, file)\n",
        "        with open(file_path, 'r') as f:\n",
        "          seq, qs = self.extract_seq_and_qs(f)\n",
        "\n",
        "        seq = self.pad_or_truncate(seq, self.seq_length)\n",
        "\n",
        "        batch_sequences.apppend(seq)\n",
        "        batch_quality_quality_scores(qs)\n",
        "\n",
        "      return np.array(batch_sequences), np.array(batch_quality_scores)\n",
        "\n",
        "      def extract_seq_and_qs(self, fastq_file):\n",
        "        pass\n",
        "\n",
        "      def pad_or_truncate(self, seq, target_length):\n",
        "        pass\n",
        "\n",
        "DATA_DIR = \"\"\n",
        "BATCH_SIZE = 16\n",
        "dna_loader = FASTQLoader(DATA_DIR, BATCH_SIZE)\n",
        "\n",
        "batch_sequences, batch_quality_scores = dna_loader.load_batch()"
      ]
    }
  ]
}